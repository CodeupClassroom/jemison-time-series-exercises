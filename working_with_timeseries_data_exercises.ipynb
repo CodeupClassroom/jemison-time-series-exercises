{
 "cells": [
  {
   "cell_type": "markdown",
   "id": "9326ab01",
   "metadata": {},
   "source": [
    "# Working with Time Series Data Exercises\n",
    "\n",
    "For all of the datasets below, examine the data types of each column, ensure that the dates are in the proper format, and set the dataframe's index to the date column as appropriate.\n",
    "\n",
    "For this exercise you'll need to install a library that will provide us access to some more datasets:\n",
    "\n",
    "> `pip install vega_datasets`\n",
    "\n",
    "You can use this library like so:\n",
    "\n",
    "> `from vega_datasets import data\n",
    "data.sf_temps()`"
   ]
  },
  {
   "cell_type": "code",
   "execution_count": 1,
   "id": "78669028",
   "metadata": {},
   "outputs": [],
   "source": [
    "import matplotlib.pyplot as plt\n",
    "import pandas as pd\n",
    "import numpy as np\n",
    "import seaborn as sns\n",
    "from vega_datasets import data"
   ]
  },
  {
   "cell_type": "markdown",
   "id": "465d2c19",
   "metadata": {},
   "source": [
    "## SF Temps"
   ]
  },
  {
   "cell_type": "code",
   "execution_count": 2,
   "id": "8ad734ca",
   "metadata": {},
   "outputs": [],
   "source": [
    "df = data.sf_temps()"
   ]
  },
  {
   "cell_type": "code",
   "execution_count": 3,
   "id": "87bc6b1d",
   "metadata": {},
   "outputs": [
    {
     "data": {
      "text/plain": [
       "temp           float64\n",
       "date    datetime64[ns]\n",
       "dtype: object"
      ]
     },
     "execution_count": 3,
     "metadata": {},
     "output_type": "execute_result"
    }
   ],
   "source": [
    "# Check to see if we need to parse dates - in this case we do not\n",
    "df.dtypes"
   ]
  },
  {
   "cell_type": "code",
   "execution_count": 4,
   "id": "4c7251b4",
   "metadata": {},
   "outputs": [
    {
     "data": {
      "text/html": [
       "<div>\n",
       "<style scoped>\n",
       "    .dataframe tbody tr th:only-of-type {\n",
       "        vertical-align: middle;\n",
       "    }\n",
       "\n",
       "    .dataframe tbody tr th {\n",
       "        vertical-align: top;\n",
       "    }\n",
       "\n",
       "    .dataframe thead th {\n",
       "        text-align: right;\n",
       "    }\n",
       "</style>\n",
       "<table border=\"1\" class=\"dataframe\">\n",
       "  <thead>\n",
       "    <tr style=\"text-align: right;\">\n",
       "      <th></th>\n",
       "      <th>temp</th>\n",
       "      <th>date</th>\n",
       "    </tr>\n",
       "  </thead>\n",
       "  <tbody>\n",
       "    <tr>\n",
       "      <th>0</th>\n",
       "      <td>47.8</td>\n",
       "      <td>2010-01-01 00:00:00</td>\n",
       "    </tr>\n",
       "    <tr>\n",
       "      <th>1</th>\n",
       "      <td>47.4</td>\n",
       "      <td>2010-01-01 01:00:00</td>\n",
       "    </tr>\n",
       "    <tr>\n",
       "      <th>2</th>\n",
       "      <td>46.9</td>\n",
       "      <td>2010-01-01 02:00:00</td>\n",
       "    </tr>\n",
       "    <tr>\n",
       "      <th>3</th>\n",
       "      <td>46.5</td>\n",
       "      <td>2010-01-01 03:00:00</td>\n",
       "    </tr>\n",
       "    <tr>\n",
       "      <th>4</th>\n",
       "      <td>46.0</td>\n",
       "      <td>2010-01-01 04:00:00</td>\n",
       "    </tr>\n",
       "  </tbody>\n",
       "</table>\n",
       "</div>"
      ],
      "text/plain": [
       "   temp                date\n",
       "0  47.8 2010-01-01 00:00:00\n",
       "1  47.4 2010-01-01 01:00:00\n",
       "2  46.9 2010-01-01 02:00:00\n",
       "3  46.5 2010-01-01 03:00:00\n",
       "4  46.0 2010-01-01 04:00:00"
      ]
     },
     "execution_count": 4,
     "metadata": {},
     "output_type": "execute_result"
    }
   ],
   "source": [
    "df.head()"
   ]
  },
  {
   "cell_type": "code",
   "execution_count": 5,
   "id": "05a7514d",
   "metadata": {},
   "outputs": [
    {
     "data": {
      "text/html": [
       "<div>\n",
       "<style scoped>\n",
       "    .dataframe tbody tr th:only-of-type {\n",
       "        vertical-align: middle;\n",
       "    }\n",
       "\n",
       "    .dataframe tbody tr th {\n",
       "        vertical-align: top;\n",
       "    }\n",
       "\n",
       "    .dataframe thead th {\n",
       "        text-align: right;\n",
       "    }\n",
       "</style>\n",
       "<table border=\"1\" class=\"dataframe\">\n",
       "  <thead>\n",
       "    <tr style=\"text-align: right;\">\n",
       "      <th></th>\n",
       "      <th>temp</th>\n",
       "    </tr>\n",
       "    <tr>\n",
       "      <th>date</th>\n",
       "      <th></th>\n",
       "    </tr>\n",
       "  </thead>\n",
       "  <tbody>\n",
       "    <tr>\n",
       "      <th>2010-01-01 00:00:00</th>\n",
       "      <td>47.8</td>\n",
       "    </tr>\n",
       "    <tr>\n",
       "      <th>2010-01-01 01:00:00</th>\n",
       "      <td>47.4</td>\n",
       "    </tr>\n",
       "    <tr>\n",
       "      <th>2010-01-01 02:00:00</th>\n",
       "      <td>46.9</td>\n",
       "    </tr>\n",
       "    <tr>\n",
       "      <th>2010-01-01 03:00:00</th>\n",
       "      <td>46.5</td>\n",
       "    </tr>\n",
       "    <tr>\n",
       "      <th>2010-01-01 04:00:00</th>\n",
       "      <td>46.0</td>\n",
       "    </tr>\n",
       "  </tbody>\n",
       "</table>\n",
       "</div>"
      ],
      "text/plain": [
       "                     temp\n",
       "date                     \n",
       "2010-01-01 00:00:00  47.8\n",
       "2010-01-01 01:00:00  47.4\n",
       "2010-01-01 02:00:00  46.9\n",
       "2010-01-01 03:00:00  46.5\n",
       "2010-01-01 04:00:00  46.0"
      ]
     },
     "execution_count": 5,
     "metadata": {},
     "output_type": "execute_result"
    }
   ],
   "source": [
    "# Set index to datetime index\n",
    "df = df.set_index('date')\n",
    "df.head()"
   ]
  },
  {
   "cell_type": "markdown",
   "id": "56c956a6",
   "metadata": {},
   "source": [
    "#### 1. Resample by the day and take the average temperature. Visualize the average temperature over time."
   ]
  },
  {
   "cell_type": "code",
   "execution_count": 6,
   "id": "bad9b737",
   "metadata": {
    "scrolled": true
   },
   "outputs": [
    {
     "data": {
      "text/plain": [
       "<AxesSubplot:title={'center':'Average Daily Temperature'}, xlabel='date'>"
      ]
     },
     "execution_count": 6,
     "metadata": {},
     "output_type": "execute_result"
    },
    {
     "data": {
      "image/png": "[encoded data removed]",
      "text/plain": [
       "<Figure size 432x288 with 1 Axes>"
      ]
     },
     "metadata": {
      "needs_background": "light"
     },
     "output_type": "display_data"
    }
   ],
   "source": [
    "df.resample('D').mean().plot(title='Average Daily Temperature')"
   ]
  },
  {
   "cell_type": "markdown",
   "id": "5a5de310",
   "metadata": {},
   "source": [
    "#### 2. Write the code necessary to visualize the minimum temperature over time."
   ]
  },
  {
   "cell_type": "code",
   "execution_count": 7,
   "id": "27ef90aa",
   "metadata": {},
   "outputs": [
    {
     "data": {
      "text/plain": [
       "<AxesSubplot:title={'center':'Minimum Daily Temperature'}, xlabel='date'>"
      ]
     },
     "execution_count": 7,
     "metadata": {},
     "output_type": "execute_result"
    },
    {
     "data": {
      "image/png": "[encoded data removed]",
      "text/plain": [
       "<Figure size 432x288 with 1 Axes>"
      ]
     },
     "metadata": {
      "needs_background": "light"
     },
     "output_type": "display_data"
    }
   ],
   "source": [
    "df.resample('D').min().plot(title='Minimum Daily Temperature')"
   ]
  },
  {
   "cell_type": "markdown",
   "id": "1fc91ff7",
   "metadata": {},
   "source": [
    "#### 3. Write the code necessary to visualize the maximum temperature over time."
   ]
  },
  {
   "cell_type": "code",
   "execution_count": 8,
   "id": "199bcf93",
   "metadata": {},
   "outputs": [
    {
     "data": {
      "text/plain": [
       "<AxesSubplot:title={'center':'Maximum Daily Temperature'}, xlabel='date'>"
      ]
     },
     "execution_count": 8,
     "metadata": {},
     "output_type": "execute_result"
    },
    {
     "data": {
      "image/png": "[encoded data removed]",
      "text/plain": [
       "<Figure size 432x288 with 1 Axes>"
      ]
     },
     "metadata": {
      "needs_background": "light"
     },
     "output_type": "display_data"
    }
   ],
   "source": [
    "df.resample('D').max().plot(title='Maximum Daily Temperature')"
   ]
  },
  {
   "cell_type": "markdown",
   "id": "5f06716d",
   "metadata": {},
   "source": [
    "#### 4. Which month is the coldest? \n",
    "\n",
    "#### 5. Which month has the highest average temperature?"
   ]
  },
  {
   "cell_type": "code",
   "execution_count": 9,
   "id": "32ad954f",
   "metadata": {},
   "outputs": [],
   "source": [
    "df['month'] = df.index.strftime('%m-%b')"
   ]
  },
  {
   "cell_type": "code",
   "execution_count": 10,
   "id": "3c4696fe",
   "metadata": {},
   "outputs": [
    {
     "data": {
      "text/html": [
       "<div>\n",
       "<style scoped>\n",
       "    .dataframe tbody tr th:only-of-type {\n",
       "        vertical-align: middle;\n",
       "    }\n",
       "\n",
       "    .dataframe tbody tr th {\n",
       "        vertical-align: top;\n",
       "    }\n",
       "\n",
       "    .dataframe thead th {\n",
       "        text-align: right;\n",
       "    }\n",
       "</style>\n",
       "<table border=\"1\" class=\"dataframe\">\n",
       "  <thead>\n",
       "    <tr style=\"text-align: right;\">\n",
       "      <th></th>\n",
       "      <th>temp</th>\n",
       "      <th>month</th>\n",
       "    </tr>\n",
       "    <tr>\n",
       "      <th>date</th>\n",
       "      <th></th>\n",
       "      <th></th>\n",
       "    </tr>\n",
       "  </thead>\n",
       "  <tbody>\n",
       "    <tr>\n",
       "      <th>2010-01-01 00:00:00</th>\n",
       "      <td>47.8</td>\n",
       "      <td>01-Jan</td>\n",
       "    </tr>\n",
       "    <tr>\n",
       "      <th>2010-01-01 01:00:00</th>\n",
       "      <td>47.4</td>\n",
       "      <td>01-Jan</td>\n",
       "    </tr>\n",
       "    <tr>\n",
       "      <th>2010-01-01 02:00:00</th>\n",
       "      <td>46.9</td>\n",
       "      <td>01-Jan</td>\n",
       "    </tr>\n",
       "    <tr>\n",
       "      <th>2010-01-01 03:00:00</th>\n",
       "      <td>46.5</td>\n",
       "      <td>01-Jan</td>\n",
       "    </tr>\n",
       "    <tr>\n",
       "      <th>2010-01-01 04:00:00</th>\n",
       "      <td>46.0</td>\n",
       "      <td>01-Jan</td>\n",
       "    </tr>\n",
       "  </tbody>\n",
       "</table>\n",
       "</div>"
      ],
      "text/plain": [
       "                     temp   month\n",
       "date                             \n",
       "2010-01-01 00:00:00  47.8  01-Jan\n",
       "2010-01-01 01:00:00  47.4  01-Jan\n",
       "2010-01-01 02:00:00  46.9  01-Jan\n",
       "2010-01-01 03:00:00  46.5  01-Jan\n",
       "2010-01-01 04:00:00  46.0  01-Jan"
      ]
     },
     "execution_count": 10,
     "metadata": {},
     "output_type": "execute_result"
    }
   ],
   "source": [
    "df.head()"
   ]
  },
  {
   "cell_type": "code",
   "execution_count": 11,
   "id": "132eef81",
   "metadata": {},
   "outputs": [
    {
     "data": {
      "text/plain": [
       "07-Jul    744\n",
       "01-Jan    744\n",
       "05-May    744\n",
       "12-Dec    744\n",
       "10-Oct    744\n",
       "08-Aug    744\n",
       "03-Mar    743\n",
       "11-Nov    720\n",
       "09-Sep    720\n",
       "06-Jun    720\n",
       "04-Apr    720\n",
       "02-Feb    672\n",
       "Name: month, dtype: int64"
      ]
     },
     "execution_count": 11,
     "metadata": {},
     "output_type": "execute_result"
    }
   ],
   "source": [
    "df.month.value_counts()"
   ]
  },
  {
   "cell_type": "code",
   "execution_count": 12,
   "id": "f8d8e413",
   "metadata": {},
   "outputs": [
    {
     "data": {
      "text/plain": [
       "month\n",
       "01-Jan    49.984140\n",
       "12-Dec    50.498253\n",
       "02-Feb    52.243899\n",
       "03-Mar    53.956528\n",
       "11-Nov    55.185139\n",
       "04-Apr    55.633056\n",
       "05-May    57.970968\n",
       "10-Oct    60.253091\n",
       "06-Jun    60.444722\n",
       "07-Jul    61.765457\n",
       "08-Aug    62.405376\n",
       "09-Sep    62.487083\n",
       "Name: temp, dtype: float64"
      ]
     },
     "execution_count": 12,
     "metadata": {},
     "output_type": "execute_result"
    }
   ],
   "source": [
    "df.groupby('month').temp.mean().sort_values()"
   ]
  },
  {
   "cell_type": "markdown",
   "id": "66106d61",
   "metadata": {},
   "source": [
    "#### 6. Resample by the day and calculate the min and max temp for the day (Hint: `.agg(['min', 'max'])`). Use this resampled dataframe to calculate the change in temperature for the day. Which month has the highest daily temperature variability?"
   ]
  },
  {
   "cell_type": "code",
   "execution_count": 13,
   "id": "3942ddc2",
   "metadata": {},
   "outputs": [],
   "source": [
    "# change in temp by day\n",
    "daily = df.resample('D').temp.agg(['min', 'max'])"
   ]
  },
  {
   "cell_type": "code",
   "execution_count": 14,
   "id": "d5efdd38",
   "metadata": {},
   "outputs": [
    {
     "data": {
      "text/html": [
       "<div>\n",
       "<style scoped>\n",
       "    .dataframe tbody tr th:only-of-type {\n",
       "        vertical-align: middle;\n",
       "    }\n",
       "\n",
       "    .dataframe tbody tr th {\n",
       "        vertical-align: top;\n",
       "    }\n",
       "\n",
       "    .dataframe thead th {\n",
       "        text-align: right;\n",
       "    }\n",
       "</style>\n",
       "<table border=\"1\" class=\"dataframe\">\n",
       "  <thead>\n",
       "    <tr style=\"text-align: right;\">\n",
       "      <th></th>\n",
       "      <th>min</th>\n",
       "      <th>max</th>\n",
       "    </tr>\n",
       "    <tr>\n",
       "      <th>date</th>\n",
       "      <th></th>\n",
       "      <th></th>\n",
       "    </tr>\n",
       "  </thead>\n",
       "  <tbody>\n",
       "    <tr>\n",
       "      <th>2010-01-01</th>\n",
       "      <td>45.8</td>\n",
       "      <td>53.3</td>\n",
       "    </tr>\n",
       "    <tr>\n",
       "      <th>2010-01-02</th>\n",
       "      <td>46.0</td>\n",
       "      <td>53.4</td>\n",
       "    </tr>\n",
       "    <tr>\n",
       "      <th>2010-01-03</th>\n",
       "      <td>46.1</td>\n",
       "      <td>53.5</td>\n",
       "    </tr>\n",
       "    <tr>\n",
       "      <th>2010-01-04</th>\n",
       "      <td>46.1</td>\n",
       "      <td>53.6</td>\n",
       "    </tr>\n",
       "    <tr>\n",
       "      <th>2010-01-05</th>\n",
       "      <td>46.1</td>\n",
       "      <td>53.8</td>\n",
       "    </tr>\n",
       "    <tr>\n",
       "      <th>...</th>\n",
       "      <td>...</td>\n",
       "      <td>...</td>\n",
       "    </tr>\n",
       "    <tr>\n",
       "      <th>2010-12-27</th>\n",
       "      <td>45.6</td>\n",
       "      <td>53.2</td>\n",
       "    </tr>\n",
       "    <tr>\n",
       "      <th>2010-12-28</th>\n",
       "      <td>45.6</td>\n",
       "      <td>53.2</td>\n",
       "    </tr>\n",
       "    <tr>\n",
       "      <th>2010-12-29</th>\n",
       "      <td>45.6</td>\n",
       "      <td>53.2</td>\n",
       "    </tr>\n",
       "    <tr>\n",
       "      <th>2010-12-30</th>\n",
       "      <td>45.6</td>\n",
       "      <td>53.2</td>\n",
       "    </tr>\n",
       "    <tr>\n",
       "      <th>2010-12-31</th>\n",
       "      <td>45.8</td>\n",
       "      <td>53.2</td>\n",
       "    </tr>\n",
       "  </tbody>\n",
       "</table>\n",
       "<p>365 rows × 2 columns</p>\n",
       "</div>"
      ],
      "text/plain": [
       "             min   max\n",
       "date                  \n",
       "2010-01-01  45.8  53.3\n",
       "2010-01-02  46.0  53.4\n",
       "2010-01-03  46.1  53.5\n",
       "2010-01-04  46.1  53.6\n",
       "2010-01-05  46.1  53.8\n",
       "...          ...   ...\n",
       "2010-12-27  45.6  53.2\n",
       "2010-12-28  45.6  53.2\n",
       "2010-12-29  45.6  53.2\n",
       "2010-12-30  45.6  53.2\n",
       "2010-12-31  45.8  53.2\n",
       "\n",
       "[365 rows x 2 columns]"
      ]
     },
     "execution_count": 14,
     "metadata": {},
     "output_type": "execute_result"
    }
   ],
   "source": [
    "daily"
   ]
  },
  {
   "cell_type": "code",
   "execution_count": 15,
   "id": "6d608243",
   "metadata": {},
   "outputs": [
    {
     "data": {
      "text/html": [
       "<div>\n",
       "<style scoped>\n",
       "    .dataframe tbody tr th:only-of-type {\n",
       "        vertical-align: middle;\n",
       "    }\n",
       "\n",
       "    .dataframe tbody tr th {\n",
       "        vertical-align: top;\n",
       "    }\n",
       "\n",
       "    .dataframe thead th {\n",
       "        text-align: right;\n",
       "    }\n",
       "</style>\n",
       "<table border=\"1\" class=\"dataframe\">\n",
       "  <thead>\n",
       "    <tr style=\"text-align: right;\">\n",
       "      <th></th>\n",
       "      <th>min</th>\n",
       "      <th>max</th>\n",
       "      <th>temp_change</th>\n",
       "    </tr>\n",
       "    <tr>\n",
       "      <th>date</th>\n",
       "      <th></th>\n",
       "      <th></th>\n",
       "      <th></th>\n",
       "    </tr>\n",
       "  </thead>\n",
       "  <tbody>\n",
       "    <tr>\n",
       "      <th>2010-01-01</th>\n",
       "      <td>45.8</td>\n",
       "      <td>53.3</td>\n",
       "      <td>7.5</td>\n",
       "    </tr>\n",
       "    <tr>\n",
       "      <th>2010-01-02</th>\n",
       "      <td>46.0</td>\n",
       "      <td>53.4</td>\n",
       "      <td>7.4</td>\n",
       "    </tr>\n",
       "    <tr>\n",
       "      <th>2010-01-03</th>\n",
       "      <td>46.1</td>\n",
       "      <td>53.5</td>\n",
       "      <td>7.4</td>\n",
       "    </tr>\n",
       "    <tr>\n",
       "      <th>2010-01-04</th>\n",
       "      <td>46.1</td>\n",
       "      <td>53.6</td>\n",
       "      <td>7.5</td>\n",
       "    </tr>\n",
       "    <tr>\n",
       "      <th>2010-01-05</th>\n",
       "      <td>46.1</td>\n",
       "      <td>53.8</td>\n",
       "      <td>7.7</td>\n",
       "    </tr>\n",
       "    <tr>\n",
       "      <th>...</th>\n",
       "      <td>...</td>\n",
       "      <td>...</td>\n",
       "      <td>...</td>\n",
       "    </tr>\n",
       "    <tr>\n",
       "      <th>2010-12-27</th>\n",
       "      <td>45.6</td>\n",
       "      <td>53.2</td>\n",
       "      <td>7.6</td>\n",
       "    </tr>\n",
       "    <tr>\n",
       "      <th>2010-12-28</th>\n",
       "      <td>45.6</td>\n",
       "      <td>53.2</td>\n",
       "      <td>7.6</td>\n",
       "    </tr>\n",
       "    <tr>\n",
       "      <th>2010-12-29</th>\n",
       "      <td>45.6</td>\n",
       "      <td>53.2</td>\n",
       "      <td>7.6</td>\n",
       "    </tr>\n",
       "    <tr>\n",
       "      <th>2010-12-30</th>\n",
       "      <td>45.6</td>\n",
       "      <td>53.2</td>\n",
       "      <td>7.6</td>\n",
       "    </tr>\n",
       "    <tr>\n",
       "      <th>2010-12-31</th>\n",
       "      <td>45.8</td>\n",
       "      <td>53.2</td>\n",
       "      <td>7.4</td>\n",
       "    </tr>\n",
       "  </tbody>\n",
       "</table>\n",
       "<p>365 rows × 3 columns</p>\n",
       "</div>"
      ],
      "text/plain": [
       "             min   max  temp_change\n",
       "date                               \n",
       "2010-01-01  45.8  53.3          7.5\n",
       "2010-01-02  46.0  53.4          7.4\n",
       "2010-01-03  46.1  53.5          7.4\n",
       "2010-01-04  46.1  53.6          7.5\n",
       "2010-01-05  46.1  53.8          7.7\n",
       "...          ...   ...          ...\n",
       "2010-12-27  45.6  53.2          7.6\n",
       "2010-12-28  45.6  53.2          7.6\n",
       "2010-12-29  45.6  53.2          7.6\n",
       "2010-12-30  45.6  53.2          7.6\n",
       "2010-12-31  45.8  53.2          7.4\n",
       "\n",
       "[365 rows x 3 columns]"
      ]
     },
     "execution_count": 15,
     "metadata": {},
     "output_type": "execute_result"
    }
   ],
   "source": [
    "daily['temp_change'] = daily['max'] - daily['min']\n",
    "daily"
   ]
  },
  {
   "cell_type": "code",
   "execution_count": 16,
   "id": "2b4e0890",
   "metadata": {},
   "outputs": [
    {
     "data": {
      "text/html": [
       "<div>\n",
       "<style scoped>\n",
       "    .dataframe tbody tr th:only-of-type {\n",
       "        vertical-align: middle;\n",
       "    }\n",
       "\n",
       "    .dataframe tbody tr th {\n",
       "        vertical-align: top;\n",
       "    }\n",
       "\n",
       "    .dataframe thead th {\n",
       "        text-align: right;\n",
       "    }\n",
       "</style>\n",
       "<table border=\"1\" class=\"dataframe\">\n",
       "  <thead>\n",
       "    <tr style=\"text-align: right;\">\n",
       "      <th></th>\n",
       "      <th>min</th>\n",
       "      <th>max</th>\n",
       "      <th>temp_change</th>\n",
       "      <th>month</th>\n",
       "    </tr>\n",
       "    <tr>\n",
       "      <th>date</th>\n",
       "      <th></th>\n",
       "      <th></th>\n",
       "      <th></th>\n",
       "      <th></th>\n",
       "    </tr>\n",
       "  </thead>\n",
       "  <tbody>\n",
       "    <tr>\n",
       "      <th>2010-01-01</th>\n",
       "      <td>45.8</td>\n",
       "      <td>53.3</td>\n",
       "      <td>7.5</td>\n",
       "      <td>01-Jan</td>\n",
       "    </tr>\n",
       "    <tr>\n",
       "      <th>2010-01-02</th>\n",
       "      <td>46.0</td>\n",
       "      <td>53.4</td>\n",
       "      <td>7.4</td>\n",
       "      <td>01-Jan</td>\n",
       "    </tr>\n",
       "    <tr>\n",
       "      <th>2010-01-03</th>\n",
       "      <td>46.1</td>\n",
       "      <td>53.5</td>\n",
       "      <td>7.4</td>\n",
       "      <td>01-Jan</td>\n",
       "    </tr>\n",
       "    <tr>\n",
       "      <th>2010-01-04</th>\n",
       "      <td>46.1</td>\n",
       "      <td>53.6</td>\n",
       "      <td>7.5</td>\n",
       "      <td>01-Jan</td>\n",
       "    </tr>\n",
       "    <tr>\n",
       "      <th>2010-01-05</th>\n",
       "      <td>46.1</td>\n",
       "      <td>53.8</td>\n",
       "      <td>7.7</td>\n",
       "      <td>01-Jan</td>\n",
       "    </tr>\n",
       "  </tbody>\n",
       "</table>\n",
       "</div>"
      ],
      "text/plain": [
       "             min   max  temp_change   month\n",
       "date                                       \n",
       "2010-01-01  45.8  53.3          7.5  01-Jan\n",
       "2010-01-02  46.0  53.4          7.4  01-Jan\n",
       "2010-01-03  46.1  53.5          7.4  01-Jan\n",
       "2010-01-04  46.1  53.6          7.5  01-Jan\n",
       "2010-01-05  46.1  53.8          7.7  01-Jan"
      ]
     },
     "execution_count": 16,
     "metadata": {},
     "output_type": "execute_result"
    }
   ],
   "source": [
    "daily['month'] = daily.index.strftime('%m-%b')\n",
    "daily.head()"
   ]
  },
  {
   "cell_type": "code",
   "execution_count": 17,
   "id": "c79b996a",
   "metadata": {},
   "outputs": [
    {
     "data": {
      "text/plain": [
       "month\n",
       "10-Oct    14.4\n",
       "06-Jun    14.8\n",
       "07-Jul    14.8\n",
       "09-Sep    14.9\n",
       "08-Aug    15.0\n",
       "Name: temp_change, dtype: float64"
      ]
     },
     "execution_count": 17,
     "metadata": {},
     "output_type": "execute_result"
    }
   ],
   "source": [
    "# We can sort values to find highest daily variability\n",
    "daily.groupby('month').temp_change.max().sort_values().tail()"
   ]
  },
  {
   "cell_type": "markdown",
   "id": "bab1d246",
   "metadata": {},
   "source": [
    "#### Bonus: Visualize the daily min, average, and max temperature over time on a single line plot, i.e. the min, average, and maximum temperature should be 3 seperate lines."
   ]
  },
  {
   "cell_type": "code",
   "execution_count": 18,
   "id": "43ccc171",
   "metadata": {},
   "outputs": [
    {
     "data": {
      "text/html": [
       "<div>\n",
       "<style scoped>\n",
       "    .dataframe tbody tr th:only-of-type {\n",
       "        vertical-align: middle;\n",
       "    }\n",
       "\n",
       "    .dataframe tbody tr th {\n",
       "        vertical-align: top;\n",
       "    }\n",
       "\n",
       "    .dataframe thead th {\n",
       "        text-align: right;\n",
       "    }\n",
       "</style>\n",
       "<table border=\"1\" class=\"dataframe\">\n",
       "  <thead>\n",
       "    <tr style=\"text-align: right;\">\n",
       "      <th></th>\n",
       "      <th>min</th>\n",
       "      <th>mean</th>\n",
       "      <th>max</th>\n",
       "    </tr>\n",
       "    <tr>\n",
       "      <th>date</th>\n",
       "      <th></th>\n",
       "      <th></th>\n",
       "      <th></th>\n",
       "    </tr>\n",
       "  </thead>\n",
       "  <tbody>\n",
       "    <tr>\n",
       "      <th>2010-01-01</th>\n",
       "      <td>45.8</td>\n",
       "      <td>49.170833</td>\n",
       "      <td>53.3</td>\n",
       "    </tr>\n",
       "    <tr>\n",
       "      <th>2010-01-02</th>\n",
       "      <td>46.0</td>\n",
       "      <td>49.304167</td>\n",
       "      <td>53.4</td>\n",
       "    </tr>\n",
       "    <tr>\n",
       "      <th>2010-01-03</th>\n",
       "      <td>46.1</td>\n",
       "      <td>49.391667</td>\n",
       "      <td>53.5</td>\n",
       "    </tr>\n",
       "    <tr>\n",
       "      <th>2010-01-04</th>\n",
       "      <td>46.1</td>\n",
       "      <td>49.445833</td>\n",
       "      <td>53.6</td>\n",
       "    </tr>\n",
       "    <tr>\n",
       "      <th>2010-01-05</th>\n",
       "      <td>46.1</td>\n",
       "      <td>49.491667</td>\n",
       "      <td>53.8</td>\n",
       "    </tr>\n",
       "  </tbody>\n",
       "</table>\n",
       "</div>"
      ],
      "text/plain": [
       "             min       mean   max\n",
       "date                             \n",
       "2010-01-01  45.8  49.170833  53.3\n",
       "2010-01-02  46.0  49.304167  53.4\n",
       "2010-01-03  46.1  49.391667  53.5\n",
       "2010-01-04  46.1  49.445833  53.6\n",
       "2010-01-05  46.1  49.491667  53.8"
      ]
     },
     "execution_count": 18,
     "metadata": {},
     "output_type": "execute_result"
    }
   ],
   "source": [
    "df.resample('D').temp.agg(['min', 'mean', 'max']).head()"
   ]
  },
  {
   "cell_type": "code",
   "execution_count": 19,
   "id": "5fb321c0",
   "metadata": {},
   "outputs": [
    {
     "data": {
      "text/plain": [
       "<AxesSubplot:xlabel='date'>"
      ]
     },
     "execution_count": 19,
     "metadata": {},
     "output_type": "execute_result"
    },
    {
     "data": {
      "image/png": "[encoded data removed]",
      "text/plain": [
       "<Figure size 936x360 with 1 Axes>"
      ]
     },
     "metadata": {
      "needs_background": "light"
     },
     "output_type": "display_data"
    }
   ],
   "source": [
    "ax = df.plot(alpha=.5, figsize=(13, 5), lw=.2)\n",
    "df.resample('D').temp.agg(['min', 'mean', 'max']).plot(ax=ax)"
   ]
  },
  {
   "cell_type": "code",
   "execution_count": 20,
   "id": "dc76b501",
   "metadata": {},
   "outputs": [
    {
     "data": {
      "text/plain": [
       "<matplotlib.legend.Legend at 0x7fb795a39670>"
      ]
     },
     "execution_count": 20,
     "metadata": {},
     "output_type": "execute_result"
    },
    {
     "data": {
      "image/png": "[encoded data removed]",
      "text/plain": [
       "<Figure size 432x288 with 1 Axes>"
      ]
     },
     "metadata": {
      "needs_background": "light"
     },
     "output_type": "display_data"
    }
   ],
   "source": [
    "df.resample('D').temp.agg(['min', 'mean', 'max'])['min'].plot(label = 'min')\n",
    "df.resample('D').temp.agg(['min', 'mean', 'max'])['mean'].plot(label = 'mean')\n",
    "df.resample('D').temp.agg(['min', 'mean', 'max'])['max'].plot(label = 'max')\n",
    "plt.legend()"
   ]
  },
  {
   "cell_type": "code",
   "execution_count": 21,
   "id": "04689e52",
   "metadata": {},
   "outputs": [
    {
     "data": {
      "text/html": [
       "<div>\n",
       "<style scoped>\n",
       "    .dataframe tbody tr th:only-of-type {\n",
       "        vertical-align: middle;\n",
       "    }\n",
       "\n",
       "    .dataframe tbody tr th {\n",
       "        vertical-align: top;\n",
       "    }\n",
       "\n",
       "    .dataframe thead th {\n",
       "        text-align: right;\n",
       "    }\n",
       "</style>\n",
       "<table border=\"1\" class=\"dataframe\">\n",
       "  <thead>\n",
       "    <tr style=\"text-align: right;\">\n",
       "      <th></th>\n",
       "      <th>min</th>\n",
       "      <th>mean</th>\n",
       "      <th>max</th>\n",
       "    </tr>\n",
       "    <tr>\n",
       "      <th>date</th>\n",
       "      <th></th>\n",
       "      <th></th>\n",
       "      <th></th>\n",
       "    </tr>\n",
       "  </thead>\n",
       "  <tbody>\n",
       "    <tr>\n",
       "      <th>2010-01-01</th>\n",
       "      <td>45.8</td>\n",
       "      <td>49.170833</td>\n",
       "      <td>53.3</td>\n",
       "    </tr>\n",
       "    <tr>\n",
       "      <th>2010-01-02</th>\n",
       "      <td>46.0</td>\n",
       "      <td>49.304167</td>\n",
       "      <td>53.4</td>\n",
       "    </tr>\n",
       "    <tr>\n",
       "      <th>2010-01-03</th>\n",
       "      <td>46.1</td>\n",
       "      <td>49.391667</td>\n",
       "      <td>53.5</td>\n",
       "    </tr>\n",
       "    <tr>\n",
       "      <th>2010-01-04</th>\n",
       "      <td>46.1</td>\n",
       "      <td>49.445833</td>\n",
       "      <td>53.6</td>\n",
       "    </tr>\n",
       "    <tr>\n",
       "      <th>2010-01-05</th>\n",
       "      <td>46.1</td>\n",
       "      <td>49.491667</td>\n",
       "      <td>53.8</td>\n",
       "    </tr>\n",
       "  </tbody>\n",
       "</table>\n",
       "</div>"
      ],
      "text/plain": [
       "             min       mean   max\n",
       "date                             \n",
       "2010-01-01  45.8  49.170833  53.3\n",
       "2010-01-02  46.0  49.304167  53.4\n",
       "2010-01-03  46.1  49.391667  53.5\n",
       "2010-01-04  46.1  49.445833  53.6\n",
       "2010-01-05  46.1  49.491667  53.8"
      ]
     },
     "execution_count": 21,
     "metadata": {},
     "output_type": "execute_result"
    }
   ],
   "source": [
    "daily = df.resample('D').temp.agg(['min', 'mean', 'max'])\n",
    "daily.head()"
   ]
  },
  {
   "cell_type": "code",
   "execution_count": 22,
   "id": "c84ec4f3",
   "metadata": {},
   "outputs": [
    {
     "data": {
      "text/html": [
       "<div>\n",
       "<style scoped>\n",
       "    .dataframe tbody tr th:only-of-type {\n",
       "        vertical-align: middle;\n",
       "    }\n",
       "\n",
       "    .dataframe tbody tr th {\n",
       "        vertical-align: top;\n",
       "    }\n",
       "\n",
       "    .dataframe thead th {\n",
       "        text-align: right;\n",
       "    }\n",
       "</style>\n",
       "<table border=\"1\" class=\"dataframe\">\n",
       "  <thead>\n",
       "    <tr style=\"text-align: right;\">\n",
       "      <th></th>\n",
       "      <th>date</th>\n",
       "      <th>variable</th>\n",
       "      <th>value</th>\n",
       "    </tr>\n",
       "  </thead>\n",
       "  <tbody>\n",
       "    <tr>\n",
       "      <th>0</th>\n",
       "      <td>2010-01-01</td>\n",
       "      <td>min</td>\n",
       "      <td>45.8</td>\n",
       "    </tr>\n",
       "    <tr>\n",
       "      <th>1</th>\n",
       "      <td>2010-01-02</td>\n",
       "      <td>min</td>\n",
       "      <td>46.0</td>\n",
       "    </tr>\n",
       "    <tr>\n",
       "      <th>2</th>\n",
       "      <td>2010-01-03</td>\n",
       "      <td>min</td>\n",
       "      <td>46.1</td>\n",
       "    </tr>\n",
       "    <tr>\n",
       "      <th>3</th>\n",
       "      <td>2010-01-04</td>\n",
       "      <td>min</td>\n",
       "      <td>46.1</td>\n",
       "    </tr>\n",
       "    <tr>\n",
       "      <th>4</th>\n",
       "      <td>2010-01-05</td>\n",
       "      <td>min</td>\n",
       "      <td>46.1</td>\n",
       "    </tr>\n",
       "  </tbody>\n",
       "</table>\n",
       "</div>"
      ],
      "text/plain": [
       "        date variable  value\n",
       "0 2010-01-01      min   45.8\n",
       "1 2010-01-02      min   46.0\n",
       "2 2010-01-03      min   46.1\n",
       "3 2010-01-04      min   46.1\n",
       "4 2010-01-05      min   46.1"
      ]
     },
     "execution_count": 22,
     "metadata": {},
     "output_type": "execute_result"
    }
   ],
   "source": [
    "daily = daily.reset_index().melt(id_vars=['date'])\n",
    "daily.head()"
   ]
  },
  {
   "cell_type": "code",
   "execution_count": 23,
   "id": "a191bdb0",
   "metadata": {},
   "outputs": [
    {
     "data": {
      "text/plain": [
       "<AxesSubplot:xlabel='date', ylabel='value'>"
      ]
     },
     "execution_count": 23,
     "metadata": {},
     "output_type": "execute_result"
    },
    {
     "data": {
      "image/png": "[encoded data removed]",
      "text/plain": [
       "<Figure size 432x288 with 1 Axes>"
      ]
     },
     "metadata": {
      "needs_background": "light"
     },
     "output_type": "display_data"
    }
   ],
   "source": [
    "sns.lineplot(data=daily, x='date', y='value', hue='variable')"
   ]
  },
  {
   "cell_type": "markdown",
   "id": "4bf9d850",
   "metadata": {},
   "source": [
    "## Seattle Weather"
   ]
  },
  {
   "cell_type": "markdown",
   "id": "3067cec5",
   "metadata": {},
   "source": [
    "### Which year and month combination has the highest amount of precipitation?"
   ]
  },
  {
   "cell_type": "code",
   "execution_count": 24,
   "id": "c3926e34",
   "metadata": {},
   "outputs": [
    {
     "data": {
      "text/plain": [
       "Index(['01-Jan', '01-Jan', '01-Jan', '01-Jan', '01-Jan', '01-Jan', '01-Jan',\n",
       "       '01-Jan', '01-Jan', '01-Jan',\n",
       "       ...\n",
       "       '12-Dec', '12-Dec', '12-Dec', '12-Dec', '12-Dec', '12-Dec', '12-Dec',\n",
       "       '12-Dec', '12-Dec', '12-Dec'],\n",
       "      dtype='object', name='date', length=8759)"
      ]
     },
     "execution_count": 24,
     "metadata": {},
     "output_type": "execute_result"
    }
   ],
   "source": [
    "df.index.strftime('%m-%b')"
   ]
  },
  {
   "cell_type": "code",
   "execution_count": 25,
   "id": "a157b21b",
   "metadata": {},
   "outputs": [
    {
     "data": {
      "text/plain": [
       "Index(['5-Fri', '5-Fri', '5-Fri', '5-Fri', '5-Fri', '5-Fri', '5-Fri', '5-Fri',\n",
       "       '5-Fri', '5-Fri',\n",
       "       ...\n",
       "       '5-Fri', '5-Fri', '5-Fri', '5-Fri', '5-Fri', '5-Fri', '5-Fri', '5-Fri',\n",
       "       '5-Fri', '5-Fri'],\n",
       "      dtype='object', name='date', length=8759)"
      ]
     },
     "execution_count": 25,
     "metadata": {},
     "output_type": "execute_result"
    }
   ],
   "source": [
    "df.index.strftime('%w-%a')"
   ]
  },
  {
   "cell_type": "code",
   "execution_count": 26,
   "id": "f8a198a0",
   "metadata": {},
   "outputs": [
    {
     "data": {
      "text/html": [
       "<div>\n",
       "<style scoped>\n",
       "    .dataframe tbody tr th:only-of-type {\n",
       "        vertical-align: middle;\n",
       "    }\n",
       "\n",
       "    .dataframe tbody tr th {\n",
       "        vertical-align: top;\n",
       "    }\n",
       "\n",
       "    .dataframe thead th {\n",
       "        text-align: right;\n",
       "    }\n",
       "</style>\n",
       "<table border=\"1\" class=\"dataframe\">\n",
       "  <thead>\n",
       "    <tr style=\"text-align: right;\">\n",
       "      <th></th>\n",
       "      <th>precipitation</th>\n",
       "      <th>temp_max</th>\n",
       "      <th>temp_min</th>\n",
       "      <th>wind</th>\n",
       "      <th>weather</th>\n",
       "      <th>month</th>\n",
       "      <th>year</th>\n",
       "    </tr>\n",
       "    <tr>\n",
       "      <th>date</th>\n",
       "      <th></th>\n",
       "      <th></th>\n",
       "      <th></th>\n",
       "      <th></th>\n",
       "      <th></th>\n",
       "      <th></th>\n",
       "      <th></th>\n",
       "    </tr>\n",
       "  </thead>\n",
       "  <tbody>\n",
       "    <tr>\n",
       "      <th>2012-01-01</th>\n",
       "      <td>0.0</td>\n",
       "      <td>12.8</td>\n",
       "      <td>5.0</td>\n",
       "      <td>4.7</td>\n",
       "      <td>drizzle</td>\n",
       "      <td>01-Jan</td>\n",
       "      <td>2012</td>\n",
       "    </tr>\n",
       "    <tr>\n",
       "      <th>2012-01-02</th>\n",
       "      <td>10.9</td>\n",
       "      <td>10.6</td>\n",
       "      <td>2.8</td>\n",
       "      <td>4.5</td>\n",
       "      <td>rain</td>\n",
       "      <td>01-Jan</td>\n",
       "      <td>2012</td>\n",
       "    </tr>\n",
       "    <tr>\n",
       "      <th>2012-01-03</th>\n",
       "      <td>0.8</td>\n",
       "      <td>11.7</td>\n",
       "      <td>7.2</td>\n",
       "      <td>2.3</td>\n",
       "      <td>rain</td>\n",
       "      <td>01-Jan</td>\n",
       "      <td>2012</td>\n",
       "    </tr>\n",
       "    <tr>\n",
       "      <th>2012-01-04</th>\n",
       "      <td>20.3</td>\n",
       "      <td>12.2</td>\n",
       "      <td>5.6</td>\n",
       "      <td>4.7</td>\n",
       "      <td>rain</td>\n",
       "      <td>01-Jan</td>\n",
       "      <td>2012</td>\n",
       "    </tr>\n",
       "    <tr>\n",
       "      <th>2012-01-05</th>\n",
       "      <td>1.3</td>\n",
       "      <td>8.9</td>\n",
       "      <td>2.8</td>\n",
       "      <td>6.1</td>\n",
       "      <td>rain</td>\n",
       "      <td>01-Jan</td>\n",
       "      <td>2012</td>\n",
       "    </tr>\n",
       "  </tbody>\n",
       "</table>\n",
       "</div>"
      ],
      "text/plain": [
       "            precipitation  temp_max  temp_min  wind  weather   month  year\n",
       "date                                                                      \n",
       "2012-01-01            0.0      12.8       5.0   4.7  drizzle  01-Jan  2012\n",
       "2012-01-02           10.9      10.6       2.8   4.5     rain  01-Jan  2012\n",
       "2012-01-03            0.8      11.7       7.2   2.3     rain  01-Jan  2012\n",
       "2012-01-04           20.3      12.2       5.6   4.7     rain  01-Jan  2012\n",
       "2012-01-05            1.3       8.9       2.8   6.1     rain  01-Jan  2012"
      ]
     },
     "execution_count": 26,
     "metadata": {},
     "output_type": "execute_result"
    }
   ],
   "source": [
    "df = data.seattle_weather()\n",
    "df = df.set_index('date')\n",
    "df['month'] = df.index.strftime('%m-%b')\n",
    "df['year'] = df.index.year\n",
    "df.head()"
   ]
  },
  {
   "cell_type": "code",
   "execution_count": 28,
   "id": "bd2b6c6d",
   "metadata": {},
   "outputs": [
    {
     "data": {
      "text/plain": [
       "date\n",
       "2015-12-31    284.5\n",
       "Name: precipitation, dtype: float64"
      ]
     },
     "execution_count": 28,
     "metadata": {},
     "output_type": "execute_result"
    }
   ],
   "source": [
    "# Highest precipitation\n",
    "df.resample('M').precipitation.sum().sort_values().tail(1)"
   ]
  },
  {
   "cell_type": "markdown",
   "id": "f764e704",
   "metadata": {},
   "source": [
    "#### Visualize the amount of monthly precipitation over time."
   ]
  },
  {
   "cell_type": "code",
   "execution_count": 29,
   "id": "1d5f2b2a",
   "metadata": {},
   "outputs": [
    {
     "data": {
      "text/plain": [
       "<AxesSubplot:title={'center':'Monthly Precipitation'}, xlabel='date'>"
      ]
     },
     "execution_count": 29,
     "metadata": {},
     "output_type": "execute_result"
    },
    {
     "data": {
      "image/png": "[encoded data removed]",
      "text/plain": [
       "<Figure size 432x288 with 1 Axes>"
      ]
     },
     "metadata": {
      "needs_background": "light"
     },
     "output_type": "display_data"
    }
   ],
   "source": [
    "df.resample('M').precipitation.sum().plot(title='Monthly Precipitation')"
   ]
  },
  {
   "cell_type": "markdown",
   "id": "37bb461d",
   "metadata": {},
   "source": [
    "#### Visualize the amount of wind over time. Choose a time interval you think is appropriate."
   ]
  },
  {
   "cell_type": "code",
   "execution_count": 30,
   "id": "68b27c06",
   "metadata": {},
   "outputs": [
    {
     "data": {
      "text/plain": [
       "<AxesSubplot:title={'center':'Biweekly Average Wind'}, xlabel='date'>"
      ]
     },
     "execution_count": 30,
     "metadata": {},
     "output_type": "execute_result"
    },
    {
     "data": {
      "image/png": "[encoded data removed]",
      "text/plain": [
       "<Figure size 432x288 with 1 Axes>"
      ]
     },
     "metadata": {
      "needs_background": "light"
     },
     "output_type": "display_data"
    }
   ],
   "source": [
    "df.resample('2w').wind.mean().plot(title='Biweekly Average Wind')"
   ]
  },
  {
   "cell_type": "markdown",
   "id": "a96a6191",
   "metadata": {},
   "source": [
    "#### Which year-month combination is the windiest?"
   ]
  },
  {
   "cell_type": "code",
   "execution_count": 31,
   "id": "1394e3ae",
   "metadata": {},
   "outputs": [
    {
     "data": {
      "text/html": [
       "<div>\n",
       "<style scoped>\n",
       "    .dataframe tbody tr th:only-of-type {\n",
       "        vertical-align: middle;\n",
       "    }\n",
       "\n",
       "    .dataframe tbody tr th {\n",
       "        vertical-align: top;\n",
       "    }\n",
       "\n",
       "    .dataframe thead th {\n",
       "        text-align: right;\n",
       "    }\n",
       "</style>\n",
       "<table border=\"1\" class=\"dataframe\">\n",
       "  <thead>\n",
       "    <tr style=\"text-align: right;\">\n",
       "      <th></th>\n",
       "      <th></th>\n",
       "      <th>precipitation</th>\n",
       "      <th>temp_max</th>\n",
       "      <th>temp_min</th>\n",
       "      <th>wind</th>\n",
       "    </tr>\n",
       "    <tr>\n",
       "      <th>year</th>\n",
       "      <th>month</th>\n",
       "      <th></th>\n",
       "      <th></th>\n",
       "      <th></th>\n",
       "      <th></th>\n",
       "    </tr>\n",
       "  </thead>\n",
       "  <tbody>\n",
       "    <tr>\n",
       "      <th rowspan=\"12\" valign=\"top\">2012</th>\n",
       "      <th>01-Jan</th>\n",
       "      <td>173.3</td>\n",
       "      <td>218.7</td>\n",
       "      <td>47.8</td>\n",
       "      <td>120.9</td>\n",
       "    </tr>\n",
       "    <tr>\n",
       "      <th>02-Feb</th>\n",
       "      <td>92.3</td>\n",
       "      <td>269.0</td>\n",
       "      <td>92.9</td>\n",
       "      <td>113.2</td>\n",
       "    </tr>\n",
       "    <tr>\n",
       "      <th>03-Mar</th>\n",
       "      <td>183.0</td>\n",
       "      <td>296.2</td>\n",
       "      <td>88.0</td>\n",
       "      <td>131.7</td>\n",
       "    </tr>\n",
       "    <tr>\n",
       "      <th>04-Apr</th>\n",
       "      <td>68.1</td>\n",
       "      <td>446.2</td>\n",
       "      <td>179.8</td>\n",
       "      <td>101.2</td>\n",
       "    </tr>\n",
       "    <tr>\n",
       "      <th>05-May</th>\n",
       "      <td>52.2</td>\n",
       "      <td>547.5</td>\n",
       "      <td>253.9</td>\n",
       "      <td>104.0</td>\n",
       "    </tr>\n",
       "    <tr>\n",
       "      <th>06-Jun</th>\n",
       "      <td>75.1</td>\n",
       "      <td>560.8</td>\n",
       "      <td>314.4</td>\n",
       "      <td>92.5</td>\n",
       "    </tr>\n",
       "    <tr>\n",
       "      <th>07-Jul</th>\n",
       "      <td>26.3</td>\n",
       "      <td>710.1</td>\n",
       "      <td>400.9</td>\n",
       "      <td>89.2</td>\n",
       "    </tr>\n",
       "    <tr>\n",
       "      <th>08-Aug</th>\n",
       "      <td>0.0</td>\n",
       "      <td>801.6</td>\n",
       "      <td>434.3</td>\n",
       "      <td>87.7</td>\n",
       "    </tr>\n",
       "    <tr>\n",
       "      <th>09-Sep</th>\n",
       "      <td>0.9</td>\n",
       "      <td>686.4</td>\n",
       "      <td>337.3</td>\n",
       "      <td>79.4</td>\n",
       "    </tr>\n",
       "    <tr>\n",
       "      <th>10-Oct</th>\n",
       "      <td>170.3</td>\n",
       "      <td>490.7</td>\n",
       "      <td>259.8</td>\n",
       "      <td>109.5</td>\n",
       "    </tr>\n",
       "    <tr>\n",
       "      <th>11-Nov</th>\n",
       "      <td>210.5</td>\n",
       "      <td>339.8</td>\n",
       "      <td>156.8</td>\n",
       "      <td>96.6</td>\n",
       "    </tr>\n",
       "    <tr>\n",
       "      <th>12-Dec</th>\n",
       "      <td>174.0</td>\n",
       "      <td>224.3</td>\n",
       "      <td>102.1</td>\n",
       "      <td>118.8</td>\n",
       "    </tr>\n",
       "    <tr>\n",
       "      <th rowspan=\"12\" valign=\"top\">2013</th>\n",
       "      <th>01-Jan</th>\n",
       "      <td>105.7</td>\n",
       "      <td>189.3</td>\n",
       "      <td>24.7</td>\n",
       "      <td>89.2</td>\n",
       "    </tr>\n",
       "    <tr>\n",
       "      <th>02-Feb</th>\n",
       "      <td>40.3</td>\n",
       "      <td>265.1</td>\n",
       "      <td>121.1</td>\n",
       "      <td>101.7</td>\n",
       "    </tr>\n",
       "    <tr>\n",
       "      <th>03-Mar</th>\n",
       "      <td>69.7</td>\n",
       "      <td>394.0</td>\n",
       "      <td>154.3</td>\n",
       "      <td>107.3</td>\n",
       "    </tr>\n",
       "    <tr>\n",
       "      <th>04-Apr</th>\n",
       "      <td>149.6</td>\n",
       "      <td>427.3</td>\n",
       "      <td>200.9</td>\n",
       "      <td>111.4</td>\n",
       "    </tr>\n",
       "    <tr>\n",
       "      <th>05-May</th>\n",
       "      <td>60.5</td>\n",
       "      <td>608.4</td>\n",
       "      <td>307.6</td>\n",
       "      <td>97.9</td>\n",
       "    </tr>\n",
       "    <tr>\n",
       "      <th>06-Jun</th>\n",
       "      <td>33.1</td>\n",
       "      <td>697.6</td>\n",
       "      <td>394.9</td>\n",
       "      <td>90.1</td>\n",
       "    </tr>\n",
       "    <tr>\n",
       "      <th>07-Jul</th>\n",
       "      <td>0.0</td>\n",
       "      <td>808.9</td>\n",
       "      <td>431.9</td>\n",
       "      <td>83.3</td>\n",
       "    </tr>\n",
       "    <tr>\n",
       "      <th>08-Aug</th>\n",
       "      <td>34.4</td>\n",
       "      <td>809.7</td>\n",
       "      <td>479.9</td>\n",
       "      <td>78.8</td>\n",
       "    </tr>\n",
       "    <tr>\n",
       "      <th>09-Sep</th>\n",
       "      <td>156.8</td>\n",
       "      <td>640.8</td>\n",
       "      <td>407.7</td>\n",
       "      <td>90.4</td>\n",
       "    </tr>\n",
       "    <tr>\n",
       "      <th>10-Oct</th>\n",
       "      <td>39.2</td>\n",
       "      <td>441.1</td>\n",
       "      <td>236.8</td>\n",
       "      <td>70.5</td>\n",
       "    </tr>\n",
       "    <tr>\n",
       "      <th>11-Nov</th>\n",
       "      <td>96.3</td>\n",
       "      <td>361.6</td>\n",
       "      <td>167.7</td>\n",
       "      <td>95.4</td>\n",
       "    </tr>\n",
       "    <tr>\n",
       "      <th>12-Dec</th>\n",
       "      <td>42.4</td>\n",
       "      <td>217.7</td>\n",
       "      <td>48.7</td>\n",
       "      <td>84.8</td>\n",
       "    </tr>\n",
       "    <tr>\n",
       "      <th rowspan=\"12\" valign=\"top\">2014</th>\n",
       "      <th>01-Jan</th>\n",
       "      <td>94.0</td>\n",
       "      <td>297.6</td>\n",
       "      <td>127.0</td>\n",
       "      <td>103.8</td>\n",
       "    </tr>\n",
       "    <tr>\n",
       "      <th>02-Feb</th>\n",
       "      <td>155.2</td>\n",
       "      <td>229.6</td>\n",
       "      <td>73.8</td>\n",
       "      <td>126.8</td>\n",
       "    </tr>\n",
       "    <tr>\n",
       "      <th>03-Mar</th>\n",
       "      <td>240.0</td>\n",
       "      <td>400.1</td>\n",
       "      <td>168.2</td>\n",
       "      <td>114.0</td>\n",
       "    </tr>\n",
       "    <tr>\n",
       "      <th>04-Apr</th>\n",
       "      <td>106.1</td>\n",
       "      <td>463.8</td>\n",
       "      <td>201.9</td>\n",
       "      <td>110.9</td>\n",
       "    </tr>\n",
       "    <tr>\n",
       "      <th>05-May</th>\n",
       "      <td>80.0</td>\n",
       "      <td>616.0</td>\n",
       "      <td>316.7</td>\n",
       "      <td>97.8</td>\n",
       "    </tr>\n",
       "    <tr>\n",
       "      <th>06-Jun</th>\n",
       "      <td>18.8</td>\n",
       "      <td>647.7</td>\n",
       "      <td>352.7</td>\n",
       "      <td>95.7</td>\n",
       "    </tr>\n",
       "    <tr>\n",
       "      <th>07-Jul</th>\n",
       "      <td>19.6</td>\n",
       "      <td>833.9</td>\n",
       "      <td>447.2</td>\n",
       "      <td>96.0</td>\n",
       "    </tr>\n",
       "    <tr>\n",
       "      <th>08-Aug</th>\n",
       "      <td>46.0</td>\n",
       "      <td>817.9</td>\n",
       "      <td>461.7</td>\n",
       "      <td>76.8</td>\n",
       "    </tr>\n",
       "    <tr>\n",
       "      <th>09-Sep</th>\n",
       "      <td>56.7</td>\n",
       "      <td>694.9</td>\n",
       "      <td>397.0</td>\n",
       "      <td>94.3</td>\n",
       "    </tr>\n",
       "    <tr>\n",
       "      <th>10-Oct</th>\n",
       "      <td>171.5</td>\n",
       "      <td>556.8</td>\n",
       "      <td>337.4</td>\n",
       "      <td>90.4</td>\n",
       "    </tr>\n",
       "    <tr>\n",
       "      <th>11-Nov</th>\n",
       "      <td>123.1</td>\n",
       "      <td>330.9</td>\n",
       "      <td>135.3</td>\n",
       "      <td>119.5</td>\n",
       "    </tr>\n",
       "    <tr>\n",
       "      <th>12-Dec</th>\n",
       "      <td>121.8</td>\n",
       "      <td>314.3</td>\n",
       "      <td>142.9</td>\n",
       "      <td>110.5</td>\n",
       "    </tr>\n",
       "    <tr>\n",
       "      <th rowspan=\"12\" valign=\"top\">2015</th>\n",
       "      <th>01-Jan</th>\n",
       "      <td>93.0</td>\n",
       "      <td>314.8</td>\n",
       "      <td>134.9</td>\n",
       "      <td>75.3</td>\n",
       "    </tr>\n",
       "    <tr>\n",
       "      <th>02-Feb</th>\n",
       "      <td>134.2</td>\n",
       "      <td>350.5</td>\n",
       "      <td>170.4</td>\n",
       "      <td>86.2</td>\n",
       "    </tr>\n",
       "    <tr>\n",
       "      <th>03-Mar</th>\n",
       "      <td>113.5</td>\n",
       "      <td>445.7</td>\n",
       "      <td>192.0</td>\n",
       "      <td>90.9</td>\n",
       "    </tr>\n",
       "    <tr>\n",
       "      <th>04-Apr</th>\n",
       "      <td>51.6</td>\n",
       "      <td>465.1</td>\n",
       "      <td>180.9</td>\n",
       "      <td>99.4</td>\n",
       "    </tr>\n",
       "    <tr>\n",
       "      <th>05-May</th>\n",
       "      <td>14.8</td>\n",
       "      <td>620.8</td>\n",
       "      <td>314.0</td>\n",
       "      <td>87.2</td>\n",
       "    </tr>\n",
       "    <tr>\n",
       "      <th>06-Jun</th>\n",
       "      <td>5.9</td>\n",
       "      <td>781.9</td>\n",
       "      <td>407.3</td>\n",
       "      <td>97.4</td>\n",
       "    </tr>\n",
       "    <tr>\n",
       "      <th>07-Jul</th>\n",
       "      <td>2.3</td>\n",
       "      <td>870.9</td>\n",
       "      <td>480.5</td>\n",
       "      <td>92.5</td>\n",
       "    </tr>\n",
       "    <tr>\n",
       "      <th>08-Aug</th>\n",
       "      <td>83.3</td>\n",
       "      <td>808.7</td>\n",
       "      <td>455.5</td>\n",
       "      <td>97.8</td>\n",
       "    </tr>\n",
       "    <tr>\n",
       "      <th>09-Sep</th>\n",
       "      <td>21.1</td>\n",
       "      <td>608.8</td>\n",
       "      <td>341.0</td>\n",
       "      <td>91.5</td>\n",
       "    </tr>\n",
       "    <tr>\n",
       "      <th>10-Oct</th>\n",
       "      <td>122.4</td>\n",
       "      <td>543.7</td>\n",
       "      <td>325.5</td>\n",
       "      <td>94.1</td>\n",
       "    </tr>\n",
       "    <tr>\n",
       "      <th>11-Nov</th>\n",
       "      <td>212.6</td>\n",
       "      <td>290.5</td>\n",
       "      <td>104.4</td>\n",
       "      <td>106.4</td>\n",
       "    </tr>\n",
       "    <tr>\n",
       "      <th>12-Dec</th>\n",
       "      <td>284.5</td>\n",
       "      <td>259.8</td>\n",
       "      <td>118.6</td>\n",
       "      <td>134.6</td>\n",
       "    </tr>\n",
       "  </tbody>\n",
       "</table>\n",
       "</div>"
      ],
      "text/plain": [
       "             precipitation  temp_max  temp_min   wind\n",
       "year month                                           \n",
       "2012 01-Jan          173.3     218.7      47.8  120.9\n",
       "     02-Feb           92.3     269.0      92.9  113.2\n",
       "     03-Mar          183.0     296.2      88.0  131.7\n",
       "     04-Apr           68.1     446.2     179.8  101.2\n",
       "     05-May           52.2     547.5     253.9  104.0\n",
       "     06-Jun           75.1     560.8     314.4   92.5\n",
       "     07-Jul           26.3     710.1     400.9   89.2\n",
       "     08-Aug            0.0     801.6     434.3   87.7\n",
       "     09-Sep            0.9     686.4     337.3   79.4\n",
       "     10-Oct          170.3     490.7     259.8  109.5\n",
       "     11-Nov          210.5     339.8     156.8   96.6\n",
       "     12-Dec          174.0     224.3     102.1  118.8\n",
       "2013 01-Jan          105.7     189.3      24.7   89.2\n",
       "     02-Feb           40.3     265.1     121.1  101.7\n",
       "     03-Mar           69.7     394.0     154.3  107.3\n",
       "     04-Apr          149.6     427.3     200.9  111.4\n",
       "     05-May           60.5     608.4     307.6   97.9\n",
       "     06-Jun           33.1     697.6     394.9   90.1\n",
       "     07-Jul            0.0     808.9     431.9   83.3\n",
       "     08-Aug           34.4     809.7     479.9   78.8\n",
       "     09-Sep          156.8     640.8     407.7   90.4\n",
       "     10-Oct           39.2     441.1     236.8   70.5\n",
       "     11-Nov           96.3     361.6     167.7   95.4\n",
       "     12-Dec           42.4     217.7      48.7   84.8\n",
       "2014 01-Jan           94.0     297.6     127.0  103.8\n",
       "     02-Feb          155.2     229.6      73.8  126.8\n",
       "     03-Mar          240.0     400.1     168.2  114.0\n",
       "     04-Apr          106.1     463.8     201.9  110.9\n",
       "     05-May           80.0     616.0     316.7   97.8\n",
       "     06-Jun           18.8     647.7     352.7   95.7\n",
       "     07-Jul           19.6     833.9     447.2   96.0\n",
       "     08-Aug           46.0     817.9     461.7   76.8\n",
       "     09-Sep           56.7     694.9     397.0   94.3\n",
       "     10-Oct          171.5     556.8     337.4   90.4\n",
       "     11-Nov          123.1     330.9     135.3  119.5\n",
       "     12-Dec          121.8     314.3     142.9  110.5\n",
       "2015 01-Jan           93.0     314.8     134.9   75.3\n",
       "     02-Feb          134.2     350.5     170.4   86.2\n",
       "     03-Mar          113.5     445.7     192.0   90.9\n",
       "     04-Apr           51.6     465.1     180.9   99.4\n",
       "     05-May           14.8     620.8     314.0   87.2\n",
       "     06-Jun            5.9     781.9     407.3   97.4\n",
       "     07-Jul            2.3     870.9     480.5   92.5\n",
       "     08-Aug           83.3     808.7     455.5   97.8\n",
       "     09-Sep           21.1     608.8     341.0   91.5\n",
       "     10-Oct          122.4     543.7     325.5   94.1\n",
       "     11-Nov          212.6     290.5     104.4  106.4\n",
       "     12-Dec          284.5     259.8     118.6  134.6"
      ]
     },
     "execution_count": 31,
     "metadata": {},
     "output_type": "execute_result"
    }
   ],
   "source": [
    "df.groupby(['year', 'month']).sum()"
   ]
  },
  {
   "cell_type": "code",
   "execution_count": 32,
   "id": "01d2b378",
   "metadata": {},
   "outputs": [
    {
     "data": {
      "text/plain": [
       "(2015, '12-Dec')"
      ]
     },
     "execution_count": 32,
     "metadata": {},
     "output_type": "execute_result"
    }
   ],
   "source": [
    "df.groupby(['year', 'month']).sum().wind.idxmax()"
   ]
  },
  {
   "cell_type": "markdown",
   "id": "341dfc74",
   "metadata": {},
   "source": [
    "#### What's the sunniest year? (Hint: which day has the highest number of days where weather == sun?)"
   ]
  },
  {
   "cell_type": "code",
   "execution_count": 33,
   "id": "dee283e8",
   "metadata": {},
   "outputs": [
    {
     "data": {
      "text/plain": [
       "year\n",
       "2012    0.322404\n",
       "2015    0.493151\n",
       "2013    0.561644\n",
       "2014    0.578082\n",
       "Name: is_sunny, dtype: float64"
      ]
     },
     "execution_count": 33,
     "metadata": {},
     "output_type": "execute_result"
    }
   ],
   "source": [
    "df['is_sunny'] = df.weather == 'sun'\n",
    "# NB. previously we did a resample, could also group by date components\n",
    "df.groupby(['year']).is_sunny.mean().sort_values()"
   ]
  },
  {
   "cell_type": "markdown",
   "id": "ae729fd8",
   "metadata": {},
   "source": [
    "#### In which month does it rain the most?"
   ]
  },
  {
   "cell_type": "code",
   "execution_count": 34,
   "id": "66137ba6",
   "metadata": {},
   "outputs": [
    {
     "data": {
      "text/plain": [
       "month\n",
       "01-Jan    466.0\n",
       "10-Oct    503.4\n",
       "03-Mar    606.2\n",
       "12-Dec    622.7\n",
       "11-Nov    642.5\n",
       "Name: precipitation, dtype: float64"
      ]
     },
     "execution_count": 34,
     "metadata": {},
     "output_type": "execute_result"
    }
   ],
   "source": [
    "df.groupby('month').precipitation.sum().sort_values().tail()"
   ]
  },
  {
   "cell_type": "markdown",
   "id": "29133ea8",
   "metadata": {},
   "source": [
    "#### Which month has the most number of days with a non-zero amount of precipitation?"
   ]
  },
  {
   "cell_type": "code",
   "execution_count": 35,
   "id": "038cbaa1",
   "metadata": {},
   "outputs": [
    {
     "data": {
      "text/plain": [
       "month\n",
       "01-Jan    0.532258\n",
       "03-Mar    0.588710\n",
       "11-Nov    0.591667\n",
       "02-Feb    0.646018\n",
       "12-Dec    0.653226\n",
       "Name: nonzero_precipitation, dtype: float64"
      ]
     },
     "execution_count": 35,
     "metadata": {},
     "output_type": "execute_result"
    }
   ],
   "source": [
    "df['nonzero_precipitation'] = df.precipitation > 0\n",
    "df.groupby('month').nonzero_precipitation.mean().sort_values().tail()"
   ]
  },
  {
   "cell_type": "markdown",
   "id": "98befd09",
   "metadata": {},
   "source": [
    "## Flights"
   ]
  },
  {
   "cell_type": "code",
   "execution_count": 36,
   "id": "f91e4ea4",
   "metadata": {},
   "outputs": [],
   "source": [
    "df = data.flights_20k()"
   ]
  },
  {
   "cell_type": "code",
   "execution_count": 37,
   "id": "1aae23f5",
   "metadata": {},
   "outputs": [],
   "source": [
    "df = df.sort_values(by='date').reset_index(drop=True)"
   ]
  },
  {
   "cell_type": "code",
   "execution_count": 38,
   "id": "672d9e78",
   "metadata": {},
   "outputs": [
    {
     "data": {
      "text/html": [
       "<div>\n",
       "<style scoped>\n",
       "    .dataframe tbody tr th:only-of-type {\n",
       "        vertical-align: middle;\n",
       "    }\n",
       "\n",
       "    .dataframe tbody tr th {\n",
       "        vertical-align: top;\n",
       "    }\n",
       "\n",
       "    .dataframe thead th {\n",
       "        text-align: right;\n",
       "    }\n",
       "</style>\n",
       "<table border=\"1\" class=\"dataframe\">\n",
       "  <thead>\n",
       "    <tr style=\"text-align: right;\">\n",
       "      <th></th>\n",
       "      <th>delay</th>\n",
       "      <th>distance</th>\n",
       "      <th>origin</th>\n",
       "      <th>destination</th>\n",
       "    </tr>\n",
       "    <tr>\n",
       "      <th>date</th>\n",
       "      <th></th>\n",
       "      <th></th>\n",
       "      <th></th>\n",
       "      <th></th>\n",
       "    </tr>\n",
       "  </thead>\n",
       "  <tbody>\n",
       "    <tr>\n",
       "      <th>2001-01-01 00:01:00</th>\n",
       "      <td>14</td>\n",
       "      <td>405</td>\n",
       "      <td>MCI</td>\n",
       "      <td>MDW</td>\n",
       "    </tr>\n",
       "    <tr>\n",
       "      <th>2001-01-01 06:20:00</th>\n",
       "      <td>0</td>\n",
       "      <td>491</td>\n",
       "      <td>BNA</td>\n",
       "      <td>MCI</td>\n",
       "    </tr>\n",
       "    <tr>\n",
       "      <th>2001-01-01 06:30:00</th>\n",
       "      <td>-8</td>\n",
       "      <td>251</td>\n",
       "      <td>MDW</td>\n",
       "      <td>STL</td>\n",
       "    </tr>\n",
       "    <tr>\n",
       "      <th>2001-01-01 07:00:00</th>\n",
       "      <td>-10</td>\n",
       "      <td>361</td>\n",
       "      <td>OAK</td>\n",
       "      <td>ONT</td>\n",
       "    </tr>\n",
       "    <tr>\n",
       "      <th>2001-01-01 07:00:00</th>\n",
       "      <td>0</td>\n",
       "      <td>303</td>\n",
       "      <td>MSY</td>\n",
       "      <td>HOU</td>\n",
       "    </tr>\n",
       "  </tbody>\n",
       "</table>\n",
       "</div>"
      ],
      "text/plain": [
       "                     delay  distance origin destination\n",
       "date                                                   \n",
       "2001-01-01 00:01:00     14       405    MCI         MDW\n",
       "2001-01-01 06:20:00      0       491    BNA         MCI\n",
       "2001-01-01 06:30:00     -8       251    MDW         STL\n",
       "2001-01-01 07:00:00    -10       361    OAK         ONT\n",
       "2001-01-01 07:00:00      0       303    MSY         HOU"
      ]
     },
     "execution_count": 38,
     "metadata": {},
     "output_type": "execute_result"
    }
   ],
   "source": [
    "df = df.set_index('date')\n",
    "df.head()"
   ]
  },
  {
   "cell_type": "markdown",
   "id": "09d5950a",
   "metadata": {},
   "source": [
    "#### Convert any negative delays to 0."
   ]
  },
  {
   "cell_type": "code",
   "execution_count": 39,
   "id": "9267f96e",
   "metadata": {},
   "outputs": [
    {
     "data": {
      "text/plain": [
       "0    3\n",
       "1    3\n",
       "2    3\n",
       "3    4\n",
       "4    5\n",
       "5    6\n",
       "6    7\n",
       "7    7\n",
       "8    7\n",
       "9    7\n",
       "dtype: int64"
      ]
     },
     "execution_count": 39,
     "metadata": {},
     "output_type": "execute_result"
    }
   ],
   "source": [
    "pd.Series(range(1, 11)).clip(lower=3, upper=7)"
   ]
  },
  {
   "cell_type": "code",
   "execution_count": 40,
   "id": "7d7950c4",
   "metadata": {},
   "outputs": [
    {
     "data": {
      "text/plain": [
       "date\n",
       "2001-01-01 00:01:00    14\n",
       "2001-01-01 06:20:00     0\n",
       "2001-01-01 06:30:00     0\n",
       "2001-01-01 07:00:00     0\n",
       "2001-01-01 07:00:00     0\n",
       "                       ..\n",
       "2001-03-31 21:02:00    26\n",
       "2001-03-31 21:05:00     0\n",
       "2001-03-31 21:05:00     0\n",
       "2001-03-31 21:30:00    30\n",
       "2001-03-31 21:30:00     0\n",
       "Name: delay, Length: 20000, dtype: int64"
      ]
     },
     "execution_count": 40,
     "metadata": {},
     "output_type": "execute_result"
    }
   ],
   "source": [
    "df.delay.clip(lower=0)"
   ]
  },
  {
   "cell_type": "code",
   "execution_count": 41,
   "id": "2bce2f98",
   "metadata": {},
   "outputs": [],
   "source": [
    "# NB. pandas where and numpy where behave differently!\n",
    "df.delay = np.where(df.delay < 0, 0, df.delay)"
   ]
  },
  {
   "cell_type": "code",
   "execution_count": 42,
   "id": "4011b528",
   "metadata": {},
   "outputs": [
    {
     "data": {
      "text/html": [
       "<div>\n",
       "<style scoped>\n",
       "    .dataframe tbody tr th:only-of-type {\n",
       "        vertical-align: middle;\n",
       "    }\n",
       "\n",
       "    .dataframe tbody tr th {\n",
       "        vertical-align: top;\n",
       "    }\n",
       "\n",
       "    .dataframe thead th {\n",
       "        text-align: right;\n",
       "    }\n",
       "</style>\n",
       "<table border=\"1\" class=\"dataframe\">\n",
       "  <thead>\n",
       "    <tr style=\"text-align: right;\">\n",
       "      <th></th>\n",
       "      <th>delay</th>\n",
       "      <th>distance</th>\n",
       "      <th>origin</th>\n",
       "      <th>destination</th>\n",
       "    </tr>\n",
       "    <tr>\n",
       "      <th>date</th>\n",
       "      <th></th>\n",
       "      <th></th>\n",
       "      <th></th>\n",
       "      <th></th>\n",
       "    </tr>\n",
       "  </thead>\n",
       "  <tbody>\n",
       "    <tr>\n",
       "      <th>2001-01-01 00:01:00</th>\n",
       "      <td>14</td>\n",
       "      <td>405</td>\n",
       "      <td>MCI</td>\n",
       "      <td>MDW</td>\n",
       "    </tr>\n",
       "    <tr>\n",
       "      <th>2001-01-01 06:20:00</th>\n",
       "      <td>0</td>\n",
       "      <td>491</td>\n",
       "      <td>BNA</td>\n",
       "      <td>MCI</td>\n",
       "    </tr>\n",
       "    <tr>\n",
       "      <th>2001-01-01 06:30:00</th>\n",
       "      <td>0</td>\n",
       "      <td>251</td>\n",
       "      <td>MDW</td>\n",
       "      <td>STL</td>\n",
       "    </tr>\n",
       "    <tr>\n",
       "      <th>2001-01-01 07:00:00</th>\n",
       "      <td>0</td>\n",
       "      <td>361</td>\n",
       "      <td>OAK</td>\n",
       "      <td>ONT</td>\n",
       "    </tr>\n",
       "    <tr>\n",
       "      <th>2001-01-01 07:00:00</th>\n",
       "      <td>0</td>\n",
       "      <td>303</td>\n",
       "      <td>MSY</td>\n",
       "      <td>HOU</td>\n",
       "    </tr>\n",
       "  </tbody>\n",
       "</table>\n",
       "</div>"
      ],
      "text/plain": [
       "                     delay  distance origin destination\n",
       "date                                                   \n",
       "2001-01-01 00:01:00     14       405    MCI         MDW\n",
       "2001-01-01 06:20:00      0       491    BNA         MCI\n",
       "2001-01-01 06:30:00      0       251    MDW         STL\n",
       "2001-01-01 07:00:00      0       361    OAK         ONT\n",
       "2001-01-01 07:00:00      0       303    MSY         HOU"
      ]
     },
     "execution_count": 42,
     "metadata": {},
     "output_type": "execute_result"
    }
   ],
   "source": [
    "df.head()"
   ]
  },
  {
   "cell_type": "markdown",
   "id": "bc3f35fa",
   "metadata": {},
   "source": [
    "#### Which hour of the day has the highest average delay?"
   ]
  },
  {
   "cell_type": "code",
   "execution_count": 43,
   "id": "453ea6ba",
   "metadata": {},
   "outputs": [],
   "source": [
    "df['hour'] = df.index.hour"
   ]
  },
  {
   "cell_type": "code",
   "execution_count": 44,
   "id": "9511e127",
   "metadata": {},
   "outputs": [
    {
     "data": {
      "text/plain": [
       "hour\n",
       "22     32.704607\n",
       "23     65.353846\n",
       "0     127.916667\n",
       "1     170.000000\n",
       "3     302.500000\n",
       "Name: delay, dtype: float64"
      ]
     },
     "execution_count": 44,
     "metadata": {},
     "output_type": "execute_result"
    }
   ],
   "source": [
    "df.groupby('hour').delay.mean().sort_values().tail()"
   ]
  },
  {
   "cell_type": "markdown",
   "id": "c03da304",
   "metadata": {},
   "source": [
    "#### Does the day of the week make a difference in the delay amount?"
   ]
  },
  {
   "cell_type": "code",
   "execution_count": 45,
   "id": "07beaae4",
   "metadata": {
    "scrolled": true
   },
   "outputs": [
    {
     "data": {
      "text/plain": [
       "weekday\n",
       "1-Mon     7.165772\n",
       "6-Sat     8.431498\n",
       "2-Tue     9.410866\n",
       "0-Sun    10.413542\n",
       "3-Wed    11.032478\n",
       "4-Thu    12.821322\n",
       "5-Fri    17.757596\n",
       "Name: delay, dtype: float64"
      ]
     },
     "execution_count": 45,
     "metadata": {},
     "output_type": "execute_result"
    }
   ],
   "source": [
    "df['weekday'] = df.index.strftime('%w-%a')\n",
    "df.groupby('weekday').delay.mean().sort_values()"
   ]
  },
  {
   "cell_type": "markdown",
   "id": "aefac773",
   "metadata": {},
   "source": [
    "#### Does the month make a difference in the delay amount?"
   ]
  },
  {
   "cell_type": "code",
   "execution_count": 46,
   "id": "e9f79a64",
   "metadata": {},
   "outputs": [
    {
     "data": {
      "text/plain": [
       "month\n",
       "1    11.301592\n",
       "2    12.306106\n",
       "3     9.875287\n",
       "Name: delay, dtype: float64"
      ]
     },
     "execution_count": 46,
     "metadata": {},
     "output_type": "execute_result"
    }
   ],
   "source": [
    "df['month'] = df.index.month\n",
    "df.groupby('month').delay.mean()"
   ]
  },
  {
   "cell_type": "code",
   "execution_count": 47,
   "id": "0c945a7b",
   "metadata": {},
   "outputs": [
    {
     "data": {
      "text/plain": [
       "month\n",
       "01-Jan    11.301592\n",
       "02-Feb    12.306106\n",
       "03-Mar     9.875287\n",
       "Name: delay, dtype: float64"
      ]
     },
     "execution_count": 47,
     "metadata": {},
     "output_type": "execute_result"
    }
   ],
   "source": [
    "df['month'] = df.index.strftime('%m-%b')\n",
    "df.groupby('month').delay.mean()"
   ]
  },
  {
   "cell_type": "markdown",
   "id": "8cec3e52",
   "metadata": {},
   "source": [
    "When creating features for weekday or month, prefer:\n",
    "\n",
    "```python\n",
    "df['weekday'] = df.index.strftime('%w-%a')\n",
    "df['month'] = df.index.strftime('%m-%b')\n",
    "```\n",
    "\n",
    "instead of:\n",
    "\n",
    "```python\n",
    "df['weekday'] = df.index.day_name()\n",
    "df['month'] = df.index.month\n",
    "```\n",
    "\n",
    "this allows us to see not just the number of the month / weekday, but also it's name. In addition, prefixing the name with the number allows the values to be sorted in the propert order for, e.g., visualizations."
   ]
  }
 ],
 "metadata": {
  "kernelspec": {
   "display_name": "Python 3",
   "language": "python",
   "name": "python3"
  },
  "language_info": {
   "codemirror_mode": {
    "name": "ipython",
    "version": 3
   },
   "file_extension": ".py",
   "mimetype": "text/x-python",
   "name": "python",
   "nbconvert_exporter": "python",
   "pygments_lexer": "ipython3",
   "version": "3.8.8"
  }
 },
 "nbformat": 4,
 "nbformat_minor": 5
}
